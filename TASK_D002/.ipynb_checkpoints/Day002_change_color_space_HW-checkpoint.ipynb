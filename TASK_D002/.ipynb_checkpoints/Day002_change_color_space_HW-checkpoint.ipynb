{
 "cells": [
  {
   "cell_type": "markdown",
   "metadata": {},
   "source": [
    "# 作業\n",
    "\n",
    "使用 [Lena](http://optipng.sourceforge.net/pngtech/img/lena.png)\n",
    "\n",
    "- 改變圖片的 color space (`HLS`, `LAB`) 並呈現"
   ]
  },
  {
   "cell_type": "code",
   "execution_count": 1,
   "metadata": {},
   "outputs": [],
   "source": [
    "# -*- coding: UTF-8\n",
    "import cv2\n",
    "import os\n",
    "\n",
    "def read_and_show_img(img_path = os.path.join('.','data','lena.png'), flag = cv2.IMREAD_COLOR, window_name='img', \n",
    "                      tran_Color_type = cv2.COLOR_BGR2HLS, show = True):\n",
    "    img = cv2.imread(img_path, flag) #local variable\n",
    "    img = cv2.cvtColor(img, tran_Color_type)\n",
    "    if show:\n",
    "        cv2.imshow(window_name, img)\n",
    "    return img"
   ]
  },
  {
   "cell_type": "code",
   "execution_count": 2,
   "metadata": {},
   "outputs": [],
   "source": [
    "# show image until key in escape\n",
    "while True:\n",
    "    #BGR to HSV\n",
    "    read_and_show_img(window_name = 'BGR', tran_Color_type = cv2.COLOR_BGR2HSV)\n",
    "    #BGR to HLS\n",
    "    read_and_show_img(window_name = 'HLS', tran_Color_type = cv2.COLOR_BGR2HLS)\n",
    "    #BGR to LAB\n",
    "    read_and_show_img(window_name = 'LAB', tran_Color_type = cv2.COLOR_BGR2LAB)\n",
    "\n",
    "    # klick escape to break\n",
    "    k = cv2.waitKey(0)\n",
    "    if k == 27:\n",
    "        cv2.destroyAllWindows()\n",
    "        break"
   ]
  }
 ],
 "metadata": {
  "kernelspec": {
   "display_name": "Python 3",
   "language": "python",
   "name": "python3"
  },
  "language_info": {
   "codemirror_mode": {
    "name": "ipython",
    "version": 3
   },
   "file_extension": ".py",
   "mimetype": "text/x-python",
   "name": "python",
   "nbconvert_exporter": "python",
   "pygments_lexer": "ipython3",
   "version": "3.7.6"
  }
 },
 "nbformat": 4,
 "nbformat_minor": 2
}
