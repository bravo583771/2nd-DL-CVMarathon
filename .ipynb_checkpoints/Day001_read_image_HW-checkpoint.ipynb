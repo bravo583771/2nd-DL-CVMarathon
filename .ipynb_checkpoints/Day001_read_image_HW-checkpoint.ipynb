{
 "cells": [
  {
   "cell_type": "markdown",
   "metadata": {},
   "source": [
    "# 作業\n",
    "\n",
    "思考一下我們前面有提到圖片是矩陣，但維度可能會不一樣\n",
    "例如灰階圖只有兩個維度，RGB 彩圖則有 3 個維度\n",
    "\n",
    "假如今天我們把 RGB 3 個維度拆開來看會有甚麼不同的效果呢？"
   ]
  },
  {
   "cell_type": "code",
   "execution_count": 1,
   "metadata": {},
   "outputs": [],
   "source": [
    "# -*- coding: UTF-8\n",
    "import cv2\n",
    "import os\n",
    "\n",
    "def read_and_show_img(img_path = os.path.join('.','data','lena.png'), flag = cv2.IMREAD_COLOR, window_name='img', show = True):\n",
    "    img = cv2.imread(img_path, flag) #local variable\n",
    "    if show:\n",
    "        cv2.imshow(window_name, img)\n",
    "    return img"
   ]
  },
  {
   "cell_type": "code",
   "execution_count": 2,
   "metadata": {},
   "outputs": [
    {
     "name": "stdout",
     "output_type": "stream",
     "text": [
      "(512, 512, 3)\n",
      "(512, 512, 3)\n"
     ]
    }
   ],
   "source": [
    "img=read_and_show_img(flag =  cv2.IMREAD_UNCHANGED, window_name = 'all channel', show=False)\n",
    "print(img.shape)\n",
    "img=read_and_show_img(flag =  cv2.IMREAD_COLOR, window_name = 'RGB', show=False)\n",
    "print(img.shape)\n",
    "#this image is not RGBA"
   ]
  },
  {
   "cell_type": "code",
   "execution_count": 3,
   "metadata": {},
   "outputs": [],
   "source": [
    "# show image until key in escape\n",
    "while True:\n",
    "    # show color image\n",
    "    read_and_show_img(flag = cv2.IMREAD_COLOR, window_name = 'bgr') \n",
    "    # show color image\n",
    "    read_and_show_img(flag =  cv2.IMREAD_GRAYSCALE, window_name = 'gray') \n",
    "    # load all channels from image and show\n",
    "    img=read_and_show_img(flag =  cv2.IMREAD_UNCHANGED, window_name = 'all channel', show=False)\n",
    "    cv2.imshow('channel1',img[:,:,0])\n",
    "    cv2.imshow('channel2',img[:,:,1])\n",
    "    cv2.imshow('channel3',img[:,:,2])\n",
    "    # key in escape to break\n",
    "    k = cv2.waitKey(0)\n",
    "    if k == 27:\n",
    "        cv2.destroyAllWindows()\n",
    "        break"
   ]
  }
 ],
 "metadata": {
  "kernelspec": {
   "display_name": "Python 3",
   "language": "python",
   "name": "python3"
  },
  "language_info": {
   "codemirror_mode": {
    "name": "ipython",
    "version": 3
   },
   "file_extension": ".py",
   "mimetype": "text/x-python",
   "name": "python",
   "nbconvert_exporter": "python",
   "pygments_lexer": "ipython3",
   "version": "3.7.6"
  }
 },
 "nbformat": 4,
 "nbformat_minor": 2
}
